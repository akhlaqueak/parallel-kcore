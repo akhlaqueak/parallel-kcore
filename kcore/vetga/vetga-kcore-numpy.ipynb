{
 "cells": [
  {
   "cell_type": "markdown",
   "metadata": {},
   "source": [
    "# Vectorized K-Core decomposition"
   ]
  },
  {
   "cell_type": "markdown",
   "metadata": {},
   "source": [
    "Import essential libraries from modules directory"
   ]
  },
  {
   "cell_type": "code",
   "execution_count": 1,
   "metadata": {
    "ExecuteTime": {
     "end_time": "2020-05-29T07:26:21.619797Z",
     "start_time": "2020-05-29T07:26:21.222429Z"
    }
   },
   "outputs": [],
   "source": [
    "import sys\n",
    "sys.path.insert(0, './graphio')\n",
    "sys.path.insert(0, './graphutils')\n",
    "\n",
    "from graphio import GraphIO\n",
    "from graphutils import GraphUtils\n",
    "\n",
    "gio = GraphIO(verbose=0)\n",
    "gul = GraphUtils(library=\"numpy\")"
   ]
  },
  {
   "cell_type": "markdown",
   "metadata": {},
   "source": [
    "Read dataset and Initialize required vectors"
   ]
  },
  {
   "cell_type": "code",
   "execution_count": 2,
   "metadata": {
    "ExecuteTime": {
     "end_time": "2020-05-29T07:26:21.633638Z",
     "start_time": "2020-05-29T07:26:21.621494Z"
    }
   },
   "outputs": [],
   "source": [
    "import numpy as np\n",
    "import timeit\n",
    "filename = \"./datasets/sample_input_graph_02.txt\"\n",
    "src, dst, N = gio.read(filename)\n",
    "_, II, D = np.unique(src, return_index=True, return_counts=True)\n",
    "D = D.astype(np.uint32)\n",
    "II = II.astype(np.uint32) # neighbors index\n",
    "CD = D.copy() # copy of original D\n",
    "C = N.copy()   #indices of nodes that are relevant\n",
    "K = np.zeros_like(N)  # to store results\n",
    "\n",
    "multi_arange = GraphUtils.multi_arange_numpy\n",
    "unique = GraphUtils.unique_numpy_bin_count\n",
    "\n",
    "%load_ext line_profiler"
   ]
  },
  {
   "cell_type": "markdown",
   "metadata": {},
   "source": [
    "K-Core Decomposition Algorithm"
   ]
  },
  {
   "cell_type": "code",
   "execution_count": 3,
   "metadata": {
    "ExecuteTime": {
     "end_time": "2020-05-29T07:26:21.640986Z",
     "start_time": "2020-05-29T07:26:21.634800Z"
    }
   },
   "outputs": [],
   "source": [
    "def kcore_decomposition(I, II, C, D, CD, K, k=1):\n",
    "    B = C[D[C]<=k]   #indices of nodes that will be deleted\n",
    "    while C.shape[0] > 1:\n",
    "        while B.shape[0] > 0:\n",
    "            D[B] = 0\n",
    "            K[B] = k\n",
    "\n",
    "            #subtracting from neighbors\n",
    "            J = I[multi_arange(II[B], CD[B])]\n",
    "            H = J[D[J]>0]\n",
    "            H, Cnt = unique(H)\n",
    "            D[H] -= Cnt\n",
    "\n",
    "            B = H[D[H] <= k]  #indices of nodes that will be deleted;\n",
    "\n",
    "        k = k + 1\n",
    "        C = C[D[C]>=k]   #indices of nodes that are relevant\n",
    "        B = C[D[C]==k]   #indices of nodes that will be deleted\n",
    "    return K"
   ]
  },
  {
   "cell_type": "markdown",
   "metadata": {},
   "source": [
    "Run and profile the algorithm"
   ]
  },
  {
   "cell_type": "code",
   "execution_count": 4,
   "metadata": {
    "ExecuteTime": {
     "end_time": "2020-05-29T07:26:21.649649Z",
     "start_time": "2020-05-29T07:26:21.642644Z"
    }
   },
   "outputs": [
    {
     "name": "stdout",
     "output_type": "stream",
     "text": [
      "CPU times: user 106 µs, sys: 3.09 ms, total: 3.2 ms\n",
      "Wall time: 2.25 ms\n",
      "Average K: 2.625\n"
     ]
    }
   ],
   "source": [
    "#%lprun -f kcore_decomposition\n",
    "%time K = kcore_decomposition(dst, II, C, D, CD, K)\n",
    "print(f\"Average K: {np.average(K)}\")"
   ]
  },
  {
   "cell_type": "markdown",
   "metadata": {},
   "source": [
    "Validate the result with expected output."
   ]
  },
  {
   "cell_type": "code",
   "execution_count": 5,
   "metadata": {
    "ExecuteTime": {
     "end_time": "2020-05-29T07:26:21.654834Z",
     "start_time": "2020-05-29T07:26:21.651491Z"
    }
   },
   "outputs": [
    {
     "name": "stdout",
     "output_type": "stream",
     "text": [
      "Output Match: True\n"
     ]
    }
   ],
   "source": [
    "import re\n",
    "filename = re.sub(\"sample_input\", \"expected_output_kcore\", filename)\n",
    "arr_txt = np.loadtxt(filename, dtype=gio.dtype, comments=\"#\")\n",
    "print(f\"Output Match: {np.array_equal(K, arr_txt[:, 1])}\")"
   ]
  }
 ],
 "metadata": {
  "colab": {
   "collapsed_sections": [],
   "name": "kcore_parallel_v3.ipynb",
   "provenance": [],
   "version": "0.3.2"
  },
  "kernelspec": {
   "display_name": "Python 3",
   "language": "python",
   "name": "python3"
  },
  "language_info": {
   "codemirror_mode": {
    "name": "ipython",
    "version": 3
   },
   "file_extension": ".py",
   "mimetype": "text/x-python",
   "name": "python",
   "nbconvert_exporter": "python",
   "pygments_lexer": "ipython3",
   "version": "3.8.3"
  },
  "latex_envs": {
   "LaTeX_envs_menu_present": true,
   "autoclose": false,
   "autocomplete": true,
   "bibliofile": "biblio.bib",
   "cite_by": "apalike",
   "current_citInitial": 1,
   "eqLabelWithNumbers": true,
   "eqNumInitial": 1,
   "hotkeys": {
    "equation": "Ctrl-E",
    "itemize": "Ctrl-I"
   },
   "labels_anchors": false,
   "latex_user_defs": false,
   "report_style_numbering": false,
   "user_envs_cfg": false
  },
  "toc": {
   "base_numbering": 1,
   "nav_menu": {},
   "number_sections": true,
   "sideBar": true,
   "skip_h1_title": false,
   "title_cell": "Table of Contents",
   "title_sidebar": "Contents",
   "toc_cell": false,
   "toc_position": {},
   "toc_section_display": true,
   "toc_window_display": false
  },
  "varInspector": {
   "cols": {
    "lenName": 16,
    "lenType": 16,
    "lenVar": 40
   },
   "kernels_config": {
    "python": {
     "delete_cmd_postfix": "",
     "delete_cmd_prefix": "del ",
     "library": "var_list.py",
     "varRefreshCmd": "print(var_dic_list())"
    },
    "r": {
     "delete_cmd_postfix": ") ",
     "delete_cmd_prefix": "rm(",
     "library": "var_list.r",
     "varRefreshCmd": "cat(var_dic_list()) "
    }
   },
   "types_to_exclude": [
    "module",
    "function",
    "builtin_function_or_method",
    "instance",
    "_Feature"
   ],
   "window_display": false
  }
 },
 "nbformat": 4,
 "nbformat_minor": 1
}
