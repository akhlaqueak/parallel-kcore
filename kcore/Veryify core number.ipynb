{
 "cells": [
  {
   "cell_type": "code",
   "execution_count": 27,
   "id": "717d8516",
   "metadata": {},
   "outputs": [],
   "source": [
    "import networkx as nx\n",
    "import os"
   ]
  },
  {
   "cell_type": "code",
   "execution_count": 28,
   "id": "eac7ea11",
   "metadata": {},
   "outputs": [],
   "source": [
    "dataset = \"gowalla.g\""
   ]
  },
  {
   "cell_type": "code",
   "execution_count": 29,
   "id": "eb57fb2b",
   "metadata": {},
   "outputs": [],
   "source": [
    "G = nx.read_adjlist(\"data_set/data/ours_format/\" + dataset)"
   ]
  },
  {
   "cell_type": "code",
   "execution_count": 30,
   "id": "895abbdb",
   "metadata": {},
   "outputs": [],
   "source": [
    "nxkcore = nx.core_number(G)"
   ]
  },
  {
   "cell_type": "code",
   "execution_count": 31,
   "id": "5d5e48b5",
   "metadata": {},
   "outputs": [],
   "source": [
    "# d = [key for (key, val) in nxkcore.items() if val == 1]\n",
    "# print(len(d))"
   ]
  },
  {
   "cell_type": "code",
   "execution_count": 38,
   "id": "11255e36",
   "metadata": {},
   "outputs": [
    {
     "name": "stdout",
     "output_type": "stream",
     "text": [
      "Test Passed!\n",
      "set()\n"
     ]
    }
   ],
   "source": [
    "d = {}\n",
    "with open(\"data_set/data/ours_format/\"+dataset + \"-kcore.txt\") as f:\n",
    "#     first line is number of nodes in our format, hence setting its degree to zero\n",
    "    d[f.readline().strip()] = 0\n",
    "    for line in f:\n",
    "        (key, val) = line.split()\n",
    "        if val!= '0':\n",
    "            d[key] = int(val)\n",
    "if d == nxkcore:\n",
    "    print(\"Test Passed!\")\n",
    "else:\n",
    "    print(\"Test Failed!\")\n",
    "diff = set(nxkcore.items()) - set(d.items())\n",
    "print(diff)"
   ]
  },
  {
   "cell_type": "code",
   "execution_count": null,
   "id": "a8f14701",
   "metadata": {},
   "outputs": [],
   "source": []
  },
  {
   "cell_type": "code",
   "execution_count": null,
   "id": "50b29f07",
   "metadata": {},
   "outputs": [],
   "source": []
  }
 ],
 "metadata": {
  "anaconda-cloud": {},
  "kernelspec": {
   "display_name": "Python 3 (ipykernel)",
   "language": "python",
   "name": "python3"
  },
  "language_info": {
   "codemirror_mode": {
    "name": "ipython",
    "version": 3
   },
   "file_extension": ".py",
   "mimetype": "text/x-python",
   "name": "python",
   "nbconvert_exporter": "python",
   "pygments_lexer": "ipython3",
   "version": "3.9.7"
  }
 },
 "nbformat": 4,
 "nbformat_minor": 5
}
