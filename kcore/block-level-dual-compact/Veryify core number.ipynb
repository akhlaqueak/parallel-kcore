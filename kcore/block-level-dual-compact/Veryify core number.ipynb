{
 "cells": [
  {
   "cell_type": "code",
   "execution_count": 1,
   "id": "717d8516",
   "metadata": {},
   "outputs": [],
   "source": [
    "import networkx as nx\n",
    "import os"
   ]
  },
  {
   "cell_type": "code",
   "execution_count": 2,
   "id": "eac7ea11",
   "metadata": {},
   "outputs": [],
   "source": [
    "dataset = \"wikiTalk.g\""
   ]
  },
  {
   "cell_type": "code",
   "execution_count": 3,
   "id": "eb57fb2b",
   "metadata": {},
   "outputs": [],
   "source": [
    "G = nx.read_adjlist(\"../data_set/data/ours_format/\" + dataset)"
   ]
  },
  {
   "cell_type": "code",
   "execution_count": 12,
   "id": "11255e36",
   "metadata": {},
   "outputs": [
    {
     "name": "stdout",
     "output_type": "stream",
     "text": [
      "Test Failed!\n"
     ]
    }
   ],
   "source": [
    "d = {}\n",
    "with open(\"../data_set/data/ours_format/\" + dataset + \"-kcore.txt\") as f:\n",
    "    d[f.readline().strip()] = 0\n",
    "    for line in f:\n",
    "        (key, val) = line.split()\n",
    "        if val!= '0':\n",
    "            d[key] = int(val)\n",
    "if d == nxkcore:\n",
    "    print(\"Test Passed!\")\n",
    "else:\n",
    "    print(\"Test Failed!\")\n"
   ]
  },
  {
   "cell_type": "code",
   "execution_count": null,
   "id": "1b66356f",
   "metadata": {},
   "outputs": [],
   "source": []
  },
  {
   "cell_type": "code",
   "execution_count": null,
   "id": "136c2cd9",
   "metadata": {},
   "outputs": [],
   "source": []
  }
 ],
 "metadata": {
  "anaconda-cloud": {},
  "kernelspec": {
   "display_name": "Python 3 (ipykernel)",
   "language": "python",
   "name": "python3"
  },
  "language_info": {
   "codemirror_mode": {
    "name": "ipython",
    "version": 3
   },
   "file_extension": ".py",
   "mimetype": "text/x-python",
   "name": "python",
   "nbconvert_exporter": "python",
   "pygments_lexer": "ipython3",
   "version": "3.9.7"
  }
 },
 "nbformat": 4,
 "nbformat_minor": 5
}
