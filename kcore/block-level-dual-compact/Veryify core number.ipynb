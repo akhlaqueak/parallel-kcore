{
 "cells": [
  {
   "cell_type": "code",
   "execution_count": 26,
   "id": "717d8516",
   "metadata": {},
   "outputs": [],
   "source": [
    "import networkx as nx\n",
    "import os"
   ]
  },
  {
   "cell_type": "code",
   "execution_count": 27,
   "id": "eac7ea11",
   "metadata": {},
   "outputs": [],
   "source": [
    "dataset = \"wikiTalk.g\""
   ]
  },
  {
   "cell_type": "code",
   "execution_count": 28,
   "id": "eb57fb2b",
   "metadata": {},
   "outputs": [],
   "source": [
    "G = nx.read_adjlist(\"../data_set/data/ours_format/\" + dataset)"
   ]
  },
  {
   "cell_type": "code",
   "execution_count": 29,
   "id": "a55f798c",
   "metadata": {},
   "outputs": [],
   "source": [
    "nxkcore = nx.core_number(G)"
   ]
  },
  {
   "cell_type": "code",
   "execution_count": 30,
   "id": "9f0999d9",
   "metadata": {},
   "outputs": [
    {
     "name": "stdout",
     "output_type": "stream",
     "text": [
      "1771386\n"
     ]
    }
   ],
   "source": [
    "d = [key for (key, val) in nxkcore.items() if val == 1]\n",
    "print(len(d))"
   ]
  },
  {
   "cell_type": "code",
   "execution_count": 31,
   "id": "11255e36",
   "metadata": {},
   "outputs": [],
   "source": [
    "# d = {}\n",
    "# with open(\"../data_set/data/ours_format/\" + dataset + \"-kcore.txt\") as f:\n",
    "#     d[f.readline().strip()] = 0\n",
    "#     for line in f:\n",
    "#         (key, val) = line.split()\n",
    "#         if val!= '0':\n",
    "#             d[key] = int(val)\n",
    "# if d == nxkcore:\n",
    "#     print(\"Test Passed!\")\n",
    "# else:\n",
    "#     print(\"Test Failed!\")\n"
   ]
  },
  {
   "cell_type": "code",
   "execution_count": null,
   "id": "6bd7c566",
   "metadata": {},
   "outputs": [],
   "source": []
  },
  {
   "cell_type": "code",
   "execution_count": null,
   "id": "1b66356f",
   "metadata": {},
   "outputs": [],
   "source": []
  },
  {
   "cell_type": "code",
   "execution_count": null,
   "id": "136c2cd9",
   "metadata": {},
   "outputs": [],
   "source": []
  }
 ],
 "metadata": {
  "anaconda-cloud": {},
  "kernelspec": {
   "display_name": "Python 3 (ipykernel)",
   "language": "python",
   "name": "python3"
  },
  "language_info": {
   "codemirror_mode": {
    "name": "ipython",
    "version": 3
   },
   "file_extension": ".py",
   "mimetype": "text/x-python",
   "name": "python",
   "nbconvert_exporter": "python",
   "pygments_lexer": "ipython3",
   "version": "3.9.7"
  }
 },
 "nbformat": 4,
 "nbformat_minor": 5
}
